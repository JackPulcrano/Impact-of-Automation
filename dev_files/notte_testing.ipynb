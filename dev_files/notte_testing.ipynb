{
 "cells": [
  {
   "cell_type": "markdown",
   "id": "80b86df9",
   "metadata": {},
   "source": [
    "## Tried using Notte AI agent to scrape the urls and download the pdfs.\n"
   ]
  },
  {
   "cell_type": "code",
   "execution_count": null,
   "id": "8760e2d5",
   "metadata": {},
   "outputs": [
    {
     "ename": "NotteAPIError",
     "evalue": "Request to `agents/start` failed with status code 401: {'detail': 'Token \"sk-notte-a768abcdc9eb43dcf076c45081868c47c4b9a3a4fdac6bd6014479ad3a7ae282\" is invalid', 'session_id': None, 'status': 401, 'error': 'Token \"sk-notte-a768abcdc9eb43dcf076c45081868c47c4b9a3a4fdac6bd6014479ad3a7ae282\" is invalid', 'message': 'Token \"sk-notte-a768abcdc9eb43dcf076c45081868c47c4b9a3a4fdac6bd6014479ad3a7ae282\" is invalid'}",
     "output_type": "error",
     "traceback": [
      "\u001b[31m---------------------------------------------------------------------------\u001b[39m",
      "\u001b[31mNotteAPIError\u001b[39m                             Traceback (most recent call last)",
      "\u001b[36mCell\u001b[39m\u001b[36m \u001b[39m\u001b[32mIn[1]\u001b[39m\u001b[32m, line 10\u001b[39m\n\u001b[32m      6\u001b[39m NOTTE_API_KEY = os.getenv(\u001b[33m\"\u001b[39m\u001b[33mNOTTE_API_KEY\u001b[39m\u001b[33m\"\u001b[39m)\n\u001b[32m      8\u001b[39m notte = NotteClient(api_key=NOTTE_API_KEY)\n\u001b[32m---> \u001b[39m\u001b[32m10\u001b[39m response = \u001b[43mnotte\u001b[49m\u001b[43m.\u001b[49m\u001b[43magents\u001b[49m\u001b[43m.\u001b[49m\u001b[43mrun\u001b[49m\u001b[43m(\u001b[49m\n\u001b[32m     11\u001b[39m \u001b[43m    \u001b[49m\u001b[43mtask\u001b[49m\u001b[43m=\u001b[49m\u001b[33;43m\"\u001b[39;49m\u001b[33;43mDownload the pdf of the paper on this website.\u001b[39;49m\u001b[33;43m\"\u001b[39;49m\u001b[43m,\u001b[49m\n\u001b[32m     12\u001b[39m \u001b[43m    \u001b[49m\u001b[43murl\u001b[49m\u001b[43m=\u001b[49m\u001b[33;43m\"\u001b[39;49m\u001b[33;43mhttps://doi.org/10.1016/j.jbiomech.2025.112681\u001b[39;49m\u001b[33;43m\"\u001b[39;49m\n\u001b[32m     13\u001b[39m \u001b[43m)\u001b[49m\n\u001b[32m     14\u001b[39m \u001b[38;5;28mprint\u001b[39m(response.answer)\n",
      "\u001b[36mFile \u001b[39m\u001b[32m~\\AppData\\Roaming\\Python\\Python313\\site-packages\\notte_sdk\\endpoints\\agents.py:268\u001b[39m, in \u001b[36mAgentsClient.run\u001b[39m\u001b[34m(self, **data)\u001b[39m\n\u001b[32m    260\u001b[39m \u001b[38;5;28;01mdef\u001b[39;00m\u001b[38;5;250m \u001b[39m\u001b[34mrun\u001b[39m(\u001b[38;5;28mself\u001b[39m, **data: Unpack[AgentStartRequestDict]) -> AgentStatusResponse:\n\u001b[32m    261\u001b[39m \u001b[38;5;250m    \u001b[39m\u001b[33;03m\"\"\"\u001b[39;00m\n\u001b[32m    262\u001b[39m \u001b[33;03m    Run an agent with the specified request parameters.\u001b[39;00m\n\u001b[32m    263\u001b[39m \u001b[33;03m    and wait for completion\u001b[39;00m\n\u001b[32m   (...)\u001b[39m\u001b[32m    266\u001b[39m \u001b[33;03m    designated endpoint, updates the last agent response, and returns the resulting AgentResponse.\u001b[39;00m\n\u001b[32m    267\u001b[39m \u001b[33;03m    \"\"\"\u001b[39;00m\n\u001b[32m--> \u001b[39m\u001b[32m268\u001b[39m     response = \u001b[38;5;28;43mself\u001b[39;49m\u001b[43m.\u001b[49m\u001b[43mstart\u001b[49m\u001b[43m(\u001b[49m\u001b[43m*\u001b[49m\u001b[43m*\u001b[49m\u001b[43mdata\u001b[49m\u001b[43m)\u001b[49m\n\u001b[32m    269\u001b[39m     \u001b[38;5;66;03m# wait for completion\u001b[39;00m\n\u001b[32m    270\u001b[39m     \u001b[38;5;28;01mreturn\u001b[39;00m \u001b[38;5;28mself\u001b[39m.wait(agent_id=response.agent_id)\n",
      "\u001b[36mFile \u001b[39m\u001b[32m~\\AppData\\Roaming\\Python\\Python313\\site-packages\\notte_sdk\\endpoints\\agents.py:175\u001b[39m, in \u001b[36mAgentsClient.start\u001b[39m\u001b[34m(self, **data)\u001b[39m\n\u001b[32m    162\u001b[39m \u001b[38;5;250m\u001b[39m\u001b[33;03m\"\"\"\u001b[39;00m\n\u001b[32m    163\u001b[39m \u001b[33;03mStart an agent with the specified request parameters.\u001b[39;00m\n\u001b[32m    164\u001b[39m \n\u001b[32m   (...)\u001b[39m\u001b[32m    172\u001b[39m \u001b[33;03m    AgentResponse: The response obtained from the agent run request.\u001b[39;00m\n\u001b[32m    173\u001b[39m \u001b[33;03m\"\"\"\u001b[39;00m\n\u001b[32m    174\u001b[39m request = AgentStartRequest.model_validate(data)\n\u001b[32m--> \u001b[39m\u001b[32m175\u001b[39m response = \u001b[38;5;28;43mself\u001b[39;49m\u001b[43m.\u001b[49m\u001b[43mrequest\u001b[49m\u001b[43m(\u001b[49m\u001b[43mAgentsClient\u001b[49m\u001b[43m.\u001b[49m\u001b[43magent_start_endpoint\u001b[49m\u001b[43m(\u001b[49m\u001b[43m)\u001b[49m\u001b[43m.\u001b[49m\u001b[43mwith_request\u001b[49m\u001b[43m(\u001b[49m\u001b[43mrequest\u001b[49m\u001b[43m)\u001b[49m\u001b[43m)\u001b[49m\n\u001b[32m    176\u001b[39m \u001b[38;5;28;01mreturn\u001b[39;00m response\n",
      "\u001b[36mFile \u001b[39m\u001b[32m~\\AppData\\Roaming\\Python\\Python313\\site-packages\\notte_sdk\\endpoints\\base.py:204\u001b[39m, in \u001b[36mBaseClient.request\u001b[39m\u001b[34m(self, endpoint)\u001b[39m\n\u001b[32m    185\u001b[39m \u001b[38;5;28;01mdef\u001b[39;00m\u001b[38;5;250m \u001b[39m\u001b[34mrequest\u001b[39m(\u001b[38;5;28mself\u001b[39m, endpoint: NotteEndpoint[TResponse]) -> TResponse:\n\u001b[32m    186\u001b[39m \u001b[38;5;250m    \u001b[39m\u001b[33;03m\"\"\"\u001b[39;00m\n\u001b[32m    187\u001b[39m \u001b[33;03m    Requests the specified API endpoint and returns the validated response.\u001b[39;00m\n\u001b[32m    188\u001b[39m \n\u001b[32m   (...)\u001b[39m\u001b[32m    202\u001b[39m \u001b[33;03m        NotteAPIError: If the API response is not a dictionary.\u001b[39;00m\n\u001b[32m    203\u001b[39m \u001b[33;03m    \"\"\"\u001b[39;00m\n\u001b[32m--> \u001b[39m\u001b[32m204\u001b[39m     response: Any = \u001b[38;5;28;43mself\u001b[39;49m\u001b[43m.\u001b[49m\u001b[43m_request\u001b[49m\u001b[43m(\u001b[49m\u001b[43mendpoint\u001b[49m\u001b[43m)\u001b[49m\n\u001b[32m    205\u001b[39m     \u001b[38;5;28;01mif\u001b[39;00m \u001b[38;5;129;01mnot\u001b[39;00m \u001b[38;5;28misinstance\u001b[39m(response, \u001b[38;5;28mdict\u001b[39m):\n\u001b[32m    206\u001b[39m         \u001b[38;5;28;01mraise\u001b[39;00m NotteAPIError(path=\u001b[33mf\u001b[39m\u001b[33m\"\u001b[39m\u001b[38;5;132;01m{\u001b[39;00m\u001b[38;5;28mself\u001b[39m.base_endpoint_path\u001b[38;5;132;01m}\u001b[39;00m\u001b[33m/\u001b[39m\u001b[38;5;132;01m{\u001b[39;00mendpoint.path\u001b[38;5;132;01m}\u001b[39;00m\u001b[33m\"\u001b[39m, response=response)\n",
      "\u001b[36mFile \u001b[39m\u001b[32m~\\AppData\\Roaming\\Python\\Python313\\site-packages\\notte_sdk\\endpoints\\base.py:179\u001b[39m, in \u001b[36mBaseClient._request\u001b[39m\u001b[34m(self, endpoint)\u001b[39m\n\u001b[32m    176\u001b[39m     \u001b[38;5;28;01mif\u001b[39;00m response.headers.get(\u001b[33m\"\u001b[39m\u001b[33mx-error-class\u001b[39m\u001b[33m\"\u001b[39m) == \u001b[33m\"\u001b[39m\u001b[33mNotteApiExecutionError\u001b[39m\u001b[33m\"\u001b[39m:\n\u001b[32m    177\u001b[39m         \u001b[38;5;28;01mraise\u001b[39;00m NotteAPIExecutionError(path=\u001b[33mf\u001b[39m\u001b[33m\"\u001b[39m\u001b[38;5;132;01m{\u001b[39;00m\u001b[38;5;28mself\u001b[39m.base_endpoint_path\u001b[38;5;132;01m}\u001b[39;00m\u001b[33m/\u001b[39m\u001b[38;5;132;01m{\u001b[39;00mendpoint.path\u001b[38;5;132;01m}\u001b[39;00m\u001b[33m\"\u001b[39m, response=response)\n\u001b[32m--> \u001b[39m\u001b[32m179\u001b[39m     \u001b[38;5;28;01mraise\u001b[39;00m NotteAPIError(path=\u001b[33mf\u001b[39m\u001b[33m\"\u001b[39m\u001b[38;5;132;01m{\u001b[39;00m\u001b[38;5;28mself\u001b[39m.base_endpoint_path\u001b[38;5;132;01m}\u001b[39;00m\u001b[33m/\u001b[39m\u001b[38;5;132;01m{\u001b[39;00mendpoint.path\u001b[38;5;132;01m}\u001b[39;00m\u001b[33m\"\u001b[39m, response=response)\n\u001b[32m    180\u001b[39m response_dict: Any = response.json()\n\u001b[32m    181\u001b[39m \u001b[38;5;28;01mif\u001b[39;00m \u001b[33m\"\u001b[39m\u001b[33mdetail\u001b[39m\u001b[33m\"\u001b[39m \u001b[38;5;129;01min\u001b[39;00m response_dict:\n",
      "\u001b[31mNotteAPIError\u001b[39m: Request to `agents/start` failed with status code 401: {'detail': 'Token \"sk-notte-a768abcdc9eb43dcf076c45081868c47c4b9a3a4fdac6bd6014479ad3a7ae282\" is invalid', 'session_id': None, 'status': 401, 'error': 'Token \"sk-notte-a768abcdc9eb43dcf076c45081868c47c4b9a3a4fdac6bd6014479ad3a7ae282\" is invalid', 'message': 'Token \"sk-notte-a768abcdc9eb43dcf076c45081868c47c4b9a3a4fdac6bd6014479ad3a7ae282\" is invalid'}"
     ]
    }
   ],
   "source": [
    "from notte_sdk import NotteClient\n",
    "\n",
    "notte = NotteClient(api_key=\"sk-notte-...\") # Replace with your actual API key\n",
    "\n",
    "response = notte.agents.run(\n",
    "    task=\"Download the pdf of the paper on this website.\",\n",
    "    url=\"https://doi.org/10.1016/j.jbiomech.2025.112681\"\n",
    ")\n",
    "print(response.answer)"
   ]
  },
  {
   "cell_type": "code",
   "execution_count": null,
   "id": "37b3bcff",
   "metadata": {},
   "outputs": [
    {
     "name": "stderr",
     "output_type": "stream",
     "text": [
      "INFO     - 📝 Current page: No page to summarize yet.\n",
      "INFO     - 🔬 Previous goal: ❓ No previous goal to evaluate.\n",
      "INFO     - 🧠 Memory: Need to go to the specified URL and extract the title.\n",
      "INFO     - 🎯 Next goal: Navigate to the URL 'https://doi.org/10.1016/j.jbiomech.2025.112681'.\n",
      "INFO     - ⚡ Taking action:\n",
      "   ▶ {'url': 'https://doi.org/10.1016/j.jbiomech.2025.112681', 'type': 'goto'}\n",
      "INFO     - 📝 Current page: The page encountered a problem providing the requested content. It displays error information like reference number, IP address, user agent, and timestamp. It also includes links to Elsevier and ScienceDirect resources, as well as legal and support information. The page title is ScienceDirect.\n",
      "INFO     - 🔬 Previous goal: ✅ The navigation to the URL was successful. However, the page displays an error message instead of the article content. The title of the page is 'ScienceDirect', but this is not the title of the article I was looking for.\n",
      "INFO     - 🧠 Memory: Need to go to the specified URL and extract the title of the article. The initial attempt resulted in an error page. The current page title is 'ScienceDirect', but this is not the article title.\n",
      "INFO     - 🎯 Next goal: Since the page displays an error, I need to try to get the article title. I will try to reload the page to see if the error resolves itself.\n",
      "INFO     - ⚡ Taking action:\n",
      "   ▶ {'type': 'reload'}\n",
      "INFO     - 📝 Current page: The page encountered a problem providing the requested content. It displays error information like reference number, IP address, user agent, and timestamp. It also includes links to Elsevier and ScienceDirect resources, as well as legal and support information. The page title is ScienceDirect.\n",
      "INFO     - 🔬 Previous goal: ❌ The reload action was successful, but the page still displays the same error message. The page title is 'ScienceDirect', which is not the title of the article I'm looking for.\n",
      "INFO     - 🧠 Memory: Need to go to the specified URL and extract the title of the article. The initial attempt and reload resulted in an error page. The current page title is 'ScienceDirect', but this is not the article title. The current URL is https://www.sciencedirect.com/science/article/pii/S0021929025001939?via%3Dihub\n",
      "INFO     - 🎯 Next goal: Since reloading didn't resolve the issue, I will try to scrape the page to see if I can find the article title within the error message or other page content.\n",
      "INFO     - ⚡ Taking action:\n",
      "   ▶ {'type': 'scrape', 'instructions': 'Extract the article title from the page content.', 'only_main_content': True}\n",
      "INFO     - 📝 Current page: The page encountered a problem providing the requested content. It displays error information like reference number, IP address, user agent, and timestamp. It also includes links to Elsevier and ScienceDirect resources, as well as legal and support information. The page title is ScienceDirect.\n",
      "INFO     - 🔬 Previous goal: ❌ The scrape action failed because the page displays an error message and does not contain the article title. The page title is 'ScienceDirect', which is not the article title.\n",
      "INFO     - 🧠 Memory: Need to go to the specified URL and extract the title of the article. The initial attempt, reload, and scrape resulted in an error page. The current page title is 'ScienceDirect', but this is not the article title. The current URL is https://www.sciencedirect.com/science/article/pii/S0021929025001939?via%3Dihub\n",
      "INFO     - 🎯 Next goal: Since I cannot access the article, I will try to extract the article title from the URL. The URL contains 'pii/S0021929025001939', which might be a clue to find the article title using a search engine.\n",
      "INFO     - ⚡ Taking action:\n",
      "   ▶ {'type': 'completion', 'answer': 'I am unable to retrieve the article title because the page is displaying an error. I tried reloading and scraping the page, but the error persists. I cannot extract the title from the URL.', 'success': False}\n"
     ]
    }
   ],
   "source": [
    "import os\n",
    "from notte_sdk import NotteClient\n",
    "\n",
    "notte = NotteClient(api_key=\"sk-notte-...\") # Replace with your actual API key\n",
    "response = notte.agents.run(\n",
    "    task=\"Go to this url and tell me what the title is.\", \n",
    "    url=\"https://doi.org/10.1016/j.jbiomech.2025.112681\",\n",
    "    max_step=10\n",
    ")"
   ]
  },
  {
   "cell_type": "code",
   "execution_count": null,
   "id": "af2de54d",
   "metadata": {},
   "outputs": [],
   "source": [
    "with notte.Session(proxies=True) as session:  \n",
    "\t_ = notte.agents.run(\n",
    "\t\ttask=\"<YOUR_TASK_PROMPT>\",\n",
    "\t\tsession_id=session.session_id\n",
    "\t)\n",
    "    notte = NotteClient()\n",
    "    # Get the replay of the session so far\n",
    "    replay = notte.sessions.replay(session_id=\"<your-session-id>\")\n",
    "    # Or the agent's execution\n",
    "    replay = notte.agents.replay(agent_id=\"<your-agent-id>\")\n",
    "\n",
    "    # Save the replay to a file\n",
    "    replay.save(\"replay.webp\")\n",
    "    # Uncomment to display the replay in a Jupyter notebook\n",
    "    # replay.display()"
   ]
  },
  {
   "cell_type": "code",
   "execution_count": null,
   "id": "67177c09",
   "metadata": {},
   "outputs": [],
   "source": [
    "import requests\n",
    "\n",
    "def resolve_doi(doi_url):\n",
    "    \"\"\"Follow redirects to get the true landing page URL from a DOI.\"\"\"\n",
    "    try:\n",
    "        response = requests.head(doi_url, allow_redirects=True, timeout=10)\n",
    "        return response.url\n",
    "    except Exception as e:\n",
    "        print(f\"Failed to resolve {doi_url}: {e}\")\n",
    "        return None\n"
   ]
  },
  {
   "cell_type": "code",
   "execution_count": null,
   "id": "e524d811",
   "metadata": {},
   "outputs": [
    {
     "name": "stdout",
     "output_type": "stream",
     "text": [
      "Resolved to: https://linkinghub.elsevier.com/retrieve/pii/S0021929025001939\n"
     ]
    },
    {
     "name": "stderr",
     "output_type": "stream",
     "text": [
      "INFO     - 📝 Current page: No page loaded yet.\n",
      "INFO     - 🔬 Previous goal: ❓ No previous goals to evaluate.\n",
      "INFO     - 🧠 Memory: Need to download the full-text PDF of the paper at 'https://linkinghub.elsevier.com/retrieve/pii/S0021929025001939'.\n",
      "INFO     - 🎯 Next goal: Navigate to the provided URL to access the paper.\n",
      "INFO     - ⚡ Taking action:\n",
      "   ▶ {'url': 'https://linkinghub.elsevier.com/retrieve/pii/S0021929025001939', 'type': 'goto'}\n",
      "INFO     - 📝 Current page: The page indicates that there was a problem providing the content requested. It provides a reference number, IP address, user agent, and timestamp. It also suggests contacting the support team.\n",
      "INFO     - 🔬 Previous goal: ❌ The previous action of navigating to the URL failed to load the paper, resulting in an error page.\n",
      "INFO     - 🧠 Memory: Need to download the full-text PDF of the paper at 'https://linkinghub.elsevier.com/retrieve/pii/S0021929025001939'. The initial attempt resulted in an error page.\n",
      "INFO     - 🎯 Next goal: Attempt to resolve the issue by contacting support or adjusting cookie settings. First, I will try contacting support.\n",
      "INFO     - ⚡ Taking action:\n",
      "   ▶ {'id': 'L2', 'type': 'click'}\n",
      "INFO     - 📝 Current page: The page displays an error message indicating that the requested content could not be provided. It suggests contacting support and provides details like reference number, IP address, user agent, and timestamp. It also has links to Elsevier and ScienceDirect resources, as well as cookie settings.\n",
      "INFO     - 🔬 Previous goal: ❌ The previous action of clicking the 'contact our support team' link led to the same error page, indicating that contacting support directly from this page is not a viable solution.\n",
      "INFO     - 🧠 Memory: Need to download the full-text PDF of the paper at 'https://linkinghub.elsevier.com/retrieve/pii/S0021929025001939'. The initial attempt resulted in an error page. Contacting support from the error page didn't work.\n",
      "INFO     - 🎯 Next goal: Attempt to resolve the issue by adjusting cookie settings to see if it resolves the error.\n",
      "INFO     - ⚡ Taking action:\n",
      "   ▶ {'id': 'B1', 'type': 'click'}\n",
      "INFO     - 📝 Current page: The page displays an error message indicating that the requested content could not be provided. It suggests contacting support and provides details like reference number, IP address, user agent, and timestamp. It also has links to Elsevier and ScienceDirect resources, as well as cookie settings.\n",
      "INFO     - 🔬 Previous goal: ❌ Clicking on 'Cookie Settings' did not resolve the issue and led to the same error page.\n",
      "INFO     - 🧠 Memory: Need to download the full-text PDF of the paper at 'https://linkinghub.elsevier.com/retrieve/pii/S0021929025001939'. The initial attempt resulted in an error page. Contacting support from the error page and adjusting cookie settings didn't work. The current URL is https://www.sciencedirect.com/science/article/pii/S0021929025001939?via%3Dihub\n",
      "INFO     - 🎯 Next goal: Since the cookie settings didn't work and the URL changed to ScienceDirect, I will try to scrape the page to see if I can find a link to download the PDF.\n",
      "INFO     - ⚡ Taking action:\n",
      "   ▶ {'type': 'scrape', 'instructions': 'Extract the link to download the full-text PDF of the paper.', 'only_main_content': True}\n",
      "INFO     - 📝 Current page: The page is an error page on ScienceDirect, indicating that the requested content could not be provided. It provides a reference number, IP address, user agent, and timestamp. It also has links to Elsevier and ScienceDirect resources, as well as cookie settings.\n",
      "INFO     - 🔬 Previous goal: ❌ The previous action of scraping the page failed because the page is an error page and does not contain a link to download the PDF.\n",
      "INFO     - 🧠 Memory: Need to download the full-text PDF of the paper at 'https://linkinghub.elsevier.com/retrieve/pii/S0021929025001939'. The initial attempt resulted in an error page. Contacting support from the error page and adjusting cookie settings didn't work. The current URL is https://www.sciencedirect.com/science/article/pii/S0021929025001939?via%3Dihub. I have tried scraping the page, but it's an error page.\n",
      "INFO     - 🎯 Next goal: Since the page is consistently showing an error, I will try navigating back to the original URL to see if the issue persists or if the page loads correctly this time.\n",
      "INFO     - ⚡ Taking action:\n",
      "   ▶ {'type': 'go_back'}\n",
      "INFO     - 📝 Current page: The current page is blank.\n",
      "INFO     - 🔬 Previous goal: ❌ The previous action of going back led to a blank page. This indicates that the browser history might not be working as expected or that the previous page was not properly cached.\n",
      "INFO     - 🧠 Memory: Need to download the full-text PDF of the paper at 'https://linkinghub.elsevier.com/retrieve/pii/S0021929025001939'. The initial attempt resulted in an error page. Contacting support from the error page and adjusting cookie settings didn't work. The current URL is https://www.sciencedirect.com/science/article/pii/S0021929025001939?via%3Dihub. I have tried scraping the page, but it's an error page. Going back led to a blank page.\n",
      "INFO     - 🎯 Next goal: Since going back resulted in a blank page, I will first switch to the tab where the contact support page is open and see if there is any useful information there. Then, I will try navigating to the original URL again to see if the issue persists or if the page loads correctly this time.\n",
      "INFO     - ⚡ Taking action:\n",
      "   ▶ {'type': 'switch_tab', 'tab_index': 1}\n",
      "INFO     - 📝 Current page: The current page is the ScienceDirect Support Center contact form. It allows users to email ScienceDirect support with questions. It also displays a cookie consent dialog.\n",
      "INFO     - 🔬 Previous goal: ❌ The previous action of switching tabs was successful in switching to the ScienceDirect Support Center contact form. However, this page doesn't directly help in downloading the PDF. It's a contact form.\n",
      "INFO     - 🧠 Memory: Need to download the full-text PDF of the paper at 'https://linkinghub.elsevier.com/retrieve/pii/S0021929025001939'. The initial attempt resulted in an error page. Contacting support from the error page and adjusting cookie settings didn't work. The current URL is https://www.sciencedirect.com/science/article/pii/S0021929025001939?via%3Dihub. I have tried scraping the page, but it's an error page. Going back led to a blank page. I switched to the contact support tab.\n",
      "INFO     - 🎯 Next goal: Since the contact support page doesn't directly provide a solution, I will switch back to the previous tab (tab 0) and try navigating to the original URL again to see if the issue persists or if the page loads correctly this time. I will accept all cookies first.\n",
      "INFO     - ⚡ Taking action:\n",
      "   ▶ {'id': 'B9', 'type': 'click'}\n",
      "INFO     - 📝 Current page: The current page is the ScienceDirect Support Center contact form. It allows users to email ScienceDirect support with questions.\n",
      "INFO     - 🔬 Previous goal: ❌ The previous action of clicking 'Accept all cookies' was successful in accepting the cookies on the ScienceDirect Support Center page. However, this page is a contact form and doesn't directly help in downloading the PDF.\n",
      "INFO     - 🧠 Memory: Need to download the full-text PDF of the paper at 'https://linkinghub.elsevier.com/retrieve/pii/S0021929025001939'. The initial attempt resulted in an error page. Contacting support from the error page and adjusting cookie settings didn't work. The current URL is https://www.sciencedirect.com/science/article/pii/S0021929025001939?via%3Dihub. I have tried scraping the page, but it's an error page. Going back led to a blank page. I switched to the contact support tab and accepted cookies.\n",
      "INFO     - 🎯 Next goal: Since the contact support page doesn't directly provide a solution, I will switch back to the previous tab (tab 0) and try navigating to the original URL again to see if the issue persists or if the page loads correctly this time.\n",
      "INFO     - ⚡ Taking action:\n",
      "   ▶ {'type': 'switch_tab', 'tab_index': 0}\n",
      "INFO     - 📝 Current page: The current page is blank.\n",
      "INFO     - 🔬 Previous goal: ❌ The previous action of switching back to tab 0 resulted in a blank page. This indicates a problem with the browser history or caching.\n",
      "INFO     - 🧠 Memory: Need to download the full-text PDF of the paper at 'https://linkinghub.elsevier.com/retrieve/pii/S0021929025001939'. The initial attempt resulted in an error page. Contacting support from the error page and adjusting cookie settings didn't work. The current URL is https://www.sciencedirect.com/science/article/pii/S0021929025001939?via%3Dihub. I have tried scraping the page, but it's an error page. Going back led to a blank page. I switched to the contact support tab and accepted cookies. Switching back to tab 0 resulted in a blank page.\n",
      "INFO     - 🎯 Next goal: Since the current tab is blank, I will try navigating to the original URL again to see if the issue persists or if the page loads correctly this time.\n",
      "INFO     - ⚡ Taking action:\n",
      "   ▶ {'url': 'https://linkinghub.elsevier.com/retrieve/pii/S0021929025001939', 'type': 'goto'}\n",
      "INFO     - 📝 Current page: The page displays an error message indicating that the requested content could not be provided. It suggests contacting support and provides details like reference number, IP address, user agent, and timestamp. It also has links to Elsevier and ScienceDirect resources, as well as cookie settings.\n",
      "INFO     - 🔬 Previous goal: ❌ The previous action of navigating to the original URL again resulted in the same error page. This indicates that the issue is persistent and not related to temporary network problems or browser caching.\n",
      "INFO     - 🧠 Memory: Need to download the full-text PDF of the paper at 'https://linkinghub.elsevier.com/retrieve/pii/S0021929025001939'. The initial attempt resulted in an error page. Contacting support from the error page and adjusting cookie settings didn't work. The current URL is https://www.sciencedirect.com/science/article/pii/S0021929025001939?via%3Dihub. I have tried scraping the page, but it's an error page. Going back led to a blank page. I switched to the contact support tab and accepted cookies. Switching back to tab 0 resulted in a blank page. Navigating to the original URL again resulted in the same error page.\n",
      "INFO     - 🎯 Next goal: Since the page consistently shows an error and I've exhausted the available options on the page, I will complete the task with failure.\n",
      "INFO     - ⚡ Taking action:\n",
      "   ▶ {'type': 'completion', 'answer': \"I was unable to download the full-text PDF of the paper at 'https://linkinghub.elsevier.com/retrieve/pii/S0021929025001939' due to a persistent error page. I have tried contacting support, adjusting cookie settings, and navigating back to the original URL, but the issue persists.\", 'success': False}\n"
     ]
    },
    {
     "name": "stdout",
     "output_type": "stream",
     "text": [
      "I was unable to download the full-text PDF of the paper at 'https://linkinghub.elsevier.com/retrieve/pii/S0021929025001939' due to a persistent error page. I have tried contacting support, adjusting cookie settings, and navigating back to the original URL, but the issue persists.\n"
     ]
    }
   ],
   "source": [
    "from notte_sdk import NotteClient\n",
    "\n",
    "notte = NotteClient(api_key=\"sk-notte-...\") # Replace with your actual API key\n",
    "\n",
    "doi = \"10.1016/j.jbiomech.2025.112681\"\n",
    "doi_url = f\"https://doi.org/{doi}\"\n",
    "real_url = resolve_doi(doi_url)\n",
    "\n",
    "if real_url:\n",
    "    print(f\"Resolved to: {real_url}\")\n",
    "    response = notte.agents.run(\n",
    "        task=\"Download the full-text PDF of this paper and give me the link to the file or download it.\",\n",
    "        url=real_url\n",
    "    )\n",
    "    print(response.answer)\n",
    "else:\n",
    "    print(\"Could not resolve DOI.\")\n"
   ]
  },
  {
   "cell_type": "code",
   "execution_count": null,
   "id": "c4a72571",
   "metadata": {},
   "outputs": [],
   "source": []
  }
 ],
 "metadata": {
  "kernelspec": {
   "display_name": "Python 3",
   "language": "python",
   "name": "python3"
  },
  "language_info": {
   "codemirror_mode": {
    "name": "ipython",
    "version": 3
   },
   "file_extension": ".py",
   "mimetype": "text/x-python",
   "name": "python",
   "nbconvert_exporter": "python",
   "pygments_lexer": "ipython3",
   "version": "3.13.3"
  }
 },
 "nbformat": 4,
 "nbformat_minor": 5
}
