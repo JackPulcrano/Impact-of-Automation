{
 "cells": [
  {
   "cell_type": "code",
   "execution_count": null,
   "id": "72e1eb91",
   "metadata": {},
   "outputs": [],
   "source": [
    "import requests\n",
    "\n",
    "doi = \"10.1096/fj.08-107938\"\n",
    "email = \"your_email@example.com\"  # required by Unpaywall\n",
    "\n",
    "url = f\"https://api.unpaywall.org/v2/{doi}?email={email}\"\n",
    "response = requests.get(url).json()\n",
    "\n",
    "if response.get(\"is_oa\"):\n",
    "    print(\"Open Access!\")\n",
    "    print(\"Full text URL:\", response.get(\"best_oa_location\", {}).get(\"url\"))\n",
    "else:\n",
    "    print(\"Not Open Access.\")\n"
   ]
  }
 ],
 "metadata": {
  "language_info": {
   "name": "python"
  }
 },
 "nbformat": 4,
 "nbformat_minor": 5
}
