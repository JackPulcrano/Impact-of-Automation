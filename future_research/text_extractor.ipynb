{
 "cells": [
  {
   "cell_type": "markdown",
   "id": "ed2012ec",
   "metadata": {},
   "source": [
    "## Text extraction starting point\n",
    "- Once the pdfs are able to be all downloaded, this code can be used to extract the text to perform NLP characterization or other text analysis methods.\n",
    "\n"
   ]
  },
  {
   "cell_type": "code",
   "execution_count": null,
   "id": "0f653be2",
   "metadata": {},
   "outputs": [],
   "source": [
    "import pdfplumber\n",
    "\n",
    "os.makedirs(\"texts\", exist_ok=True)\n",
    "\n",
    "for file in os.listdir(\"papers\"):\n",
    "    if file.endswith(\".pdf\"):\n",
    "        txt_path = f\"texts/{file.replace('.pdf', '.txt')}\"\n",
    "        if os.path.exists(txt_path):\n",
    "            continue\n",
    "        try:\n",
    "            with pdfplumber.open(f\"papers/{file}\") as pdf:\n",
    "                text = \"\\n\".join([page.extract_text() or \"\" for page in pdf.pages])\n",
    "            with open(txt_path, \"w\", encoding=\"utf-8\") as f:\n",
    "                f.write(text)\n",
    "            print(f\"📝 Text extracted: {file}\")\n",
    "        except Exception as e:\n",
    "            print(f\"❌ Text extraction failed: {file} — {e}\")"
   ]
  }
 ],
 "metadata": {
  "language_info": {
   "name": "python"
  }
 },
 "nbformat": 4,
 "nbformat_minor": 5
}
