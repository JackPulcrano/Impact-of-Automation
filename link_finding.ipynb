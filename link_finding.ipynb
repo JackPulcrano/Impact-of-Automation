{
 "cells": [
  {
   "cell_type": "markdown",
   "id": "33f7f8d0",
   "metadata": {},
   "source": [
    "## Combination of OpenAlex and Crossref to get URL links for all 1499 papers.\n"
   ]
  },
  {
   "cell_type": "code",
   "execution_count": null,
   "id": "cf78414d",
   "metadata": {},
   "outputs": [
    {
     "name": "stderr",
     "output_type": "stream",
     "text": [
      "<>:9: SyntaxWarning: invalid escape sequence '\\Q'\n",
      "<>:9: SyntaxWarning: invalid escape sequence '\\Q'\n",
      "C:\\Users\\jackp\\AppData\\Local\\Temp\\ipykernel_16260\\3858593062.py:9: SyntaxWarning: invalid escape sequence '\\Q'\n",
      "  input_file = \"datasets\\Q1_eng_compsci_econ.xlsx\"\n"
     ]
    },
    {
     "name": "stdout",
     "output_type": "stream",
     "text": [
      "✅ Done! Output saved to open_access_enriched.csv\n"
     ]
    }
   ],
   "source": [
    "import pandas as pd\n",
    "import requests\n",
    "import time\n",
    "\n",
    "# === Step 1: Load your list of DOIs ===\n",
    "# Replace this with your own CSV path and column name\n",
    "input_file = \"datasets\\Q1_eng_compsci_econ.xlsx\"\n",
    "doi_column = \"DOI\"  # Adjust if your column is named differently\n",
    "\n",
    "df = pd.read_excel(input_file)\n",
    "dois = df[doi_column].dropna().unique().tolist()\n",
    "\n",
    "# === Step 2: Enrich with OpenAlex and Crossref ===\n",
    "results = []\n",
    "\n",
    "for doi in dois:\n",
    "    result = {\"DOI\": doi}\n",
    "\n",
    "    # Try OpenAlex first\n",
    "    openalex_url = f\"https://api.openalex.org/works/https://doi.org/{doi}\"\n",
    "    try:\n",
    "        r = requests.get(openalex_url)\n",
    "        if r.status_code == 200:\n",
    "            data = r.json()\n",
    "            result.update({\n",
    "                \"Title\": data.get(\"title\"),\n",
    "                \"Open Access URL\": data.get(\"open_access\", {}).get(\"oa_url\"),\n",
    "                \"Open Access Status\": data.get(\"open_access\", {}).get(\"oa_status\"),\n",
    "                \"Journal\": data.get(\"host_venue\", {}).get(\"display_name\"),\n",
    "                \"Cited By\": data.get(\"cited_by_count\"),\n",
    "                \"Year\": data.get(\"publication_year\")\n",
    "            })\n",
    "    except Exception as e:\n",
    "        result[\"OpenAlex Error\"] = str(e)\n",
    "\n",
    "    # If no OpenAlex URL found, fallback to Crossref\n",
    "    if not result.get(\"Open Access URL\"):\n",
    "        crossref_url = f\"https://api.crossref.org/works/{doi}\"\n",
    "        try:\n",
    "            res = requests.get(crossref_url)\n",
    "            if res.status_code == 200:\n",
    "                crossref_data = res.json()\n",
    "                result[\"Open Access URL\"] = crossref_data.get(\"message\", {}).get(\"URL\")\n",
    "        except Exception as e:\n",
    "            result[\"Crossref Error\"] = str(e)\n",
    "\n",
    "    results.append(result)\n",
    "    time.sleep(1)  # Be kind to the API\n",
    "    if len(results) % 10 == 0:\n",
    "        print(f\"Processed {len(results)} DOIs...\")  \n",
    "\n",
    "# === Step 3: Save to CSV ===\n",
    "output_file = \"datasets\\open_access_enriched.csv\"\n",
    "pd.DataFrame(results).to_csv(output_file, index=False)\n",
    "print(f\"✅ Done! Output saved to {output_file}\")\n"
   ]
  }
 ],
 "metadata": {
  "kernelspec": {
   "display_name": "Python 3",
   "language": "python",
   "name": "python3"
  },
  "language_info": {
   "codemirror_mode": {
    "name": "ipython",
    "version": 3
   },
   "file_extension": ".py",
   "mimetype": "text/x-python",
   "name": "python",
   "nbconvert_exporter": "python",
   "pygments_lexer": "ipython3",
   "version": "3.13.3"
  }
 },
 "nbformat": 4,
 "nbformat_minor": 5
}
